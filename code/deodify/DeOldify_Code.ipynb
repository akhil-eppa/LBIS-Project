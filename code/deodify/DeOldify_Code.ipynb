{
  "nbformat": 4,
  "nbformat_minor": 0,
  "metadata": {
    "colab": {
      "provenance": []
    },
    "kernelspec": {
      "name": "python3",
      "display_name": "Python 3"
    },
    "language_info": {
      "name": "python"
    }
  },
  "cells": [
    {
      "cell_type": "markdown",
      "source": [
        "Code Referenced from the Repository DeOldify [https://github.com/jantic/DeOldify]"
      ],
      "metadata": {
        "id": "JvY5af-2lBtF"
      }
    },
    {
      "cell_type": "code",
      "execution_count": null,
      "metadata": {
        "id": "FyxcZlV9k-rZ"
      },
      "outputs": [],
      "source": [
        "!git clone https://github.com/microsoft/Bringing-Old-Photos-Back-to-Life.git photo_restoration"
      ]
    },
    {
      "cell_type": "markdown",
      "source": [
        "Replace the file align_warp_back_multiple_dlib.py in the repository with the file provided in the zip"
      ],
      "metadata": {
        "id": "R8T1Yh4dmuuY"
      }
    },
    {
      "cell_type": "code",
      "source": [
        "# pull the syncBN repo\n",
        "%cd photo_restoration/Face_Enhancement/models/networks\n",
        "!git clone https://github.com/vacancy/Synchronized-BatchNorm-PyTorch\n",
        "!cp -rf Synchronized-BatchNorm-PyTorch/sync_batchnorm .\n",
        "%cd ../../../\n",
        "\n",
        "%cd Global/detection_models\n",
        "!git clone https://github.com/vacancy/Synchronized-BatchNorm-PyTorch\n",
        "!cp -rf Synchronized-BatchNorm-PyTorch/sync_batchnorm .\n",
        "%cd ../../\n",
        "\n",
        "# download the landmark detection model\n",
        "%cd Face_Detection/\n",
        "!wget http://dlib.net/files/shape_predictor_68_face_landmarks.dat.bz2\n",
        "!bzip2 -d shape_predictor_68_face_landmarks.dat.bz2\n",
        "%cd ../\n",
        "\n",
        "# download the pretrained model\n",
        "%cd Face_Enhancement/\n",
        "!wget https://facevc.blob.core.windows.net/zhanbo/old_photo/pretrain/Face_Enhancement/checkpoints.zip\n",
        "!unzip checkpoints.zip\n",
        "%cd ../\n",
        "\n",
        "%cd Global/\n",
        "!wget https://facevc.blob.core.windows.net/zhanbo/old_photo/pretrain/Global/checkpoints.zip\n",
        "!unzip checkpoints.zip\n",
        "%cd ../"
      ],
      "metadata": {
        "id": "CjSj6iiXlT9K"
      },
      "execution_count": null,
      "outputs": []
    },
    {
      "cell_type": "code",
      "source": [
        "!pip install -r requirements.txt"
      ],
      "metadata": {
        "id": "0tBMEpNzlZD_"
      },
      "execution_count": null,
      "outputs": []
    },
    {
      "cell_type": "code",
      "source": [
        "%cd /content/photo_restoration/\n",
        "input_folder = \"test_images/old\"\n",
        "output_folder = \"output\"\n",
        "\n",
        "import os\n",
        "basepath = os.getcwd()\n",
        "input_path = os.path.join(basepath, input_folder)\n",
        "output_path = os.path.join(basepath, output_folder)\n",
        "os.mkdir(output_path)\n",
        "\n",
        "!python run.py --input_folder /content/photo_restoration/test_images/old --output_folder /content/photo_restoration/output/ --GPU 0"
      ],
      "metadata": {
        "id": "PjZzQC2hl5Qr"
      },
      "execution_count": null,
      "outputs": []
    }
  ]
}